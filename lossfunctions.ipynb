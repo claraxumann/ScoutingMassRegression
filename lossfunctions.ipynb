{
 "cells": [
  {
   "cell_type": "code",
   "execution_count": 1,
   "id": "bd641669",
   "metadata": {},
   "outputs": [
    {
     "name": "stderr",
     "output_type": "stream",
     "text": [
      "/opt/conda/lib/python3.8/site-packages/coffea/util.py:154: FutureWarning: In coffea version v0.8.0 (target date: 31 Dec 2022), this will be an error.\n",
      "(Set coffea.deprecations_as_errors = True to get a stack trace now.)\n",
      "ImportError: coffea.hist is deprecated\n",
      "  warnings.warn(message, FutureWarning)\n"
     ]
    }
   ],
   "source": [
    "import awkward as ak\n",
    "from coffea.nanoevents import NanoEventsFactory, NanoAODSchema, BaseSchema\n",
    "import coffea.hist as hist\n",
    "import numpy as np\n",
    "import warnings\n",
    "import matplotlib.pyplot as plt\n",
    "warnings.filterwarnings('ignore', category=RuntimeWarning)"
   ]
  },
  {
   "cell_type": "code",
   "execution_count": 2,
   "id": "f2c63da3",
   "metadata": {},
   "outputs": [],
   "source": [
    "def plothist(x, y, p):\n",
    "\n",
    "    def gauss_function(x, a, mean, sigma):\n",
    "        return a*np.exp(-(x - mean)**2/(2 * sigma**2))\n",
    "\n",
    "    fig, ax = plt.subplots(figsize=(7,7),)\n",
    "\n",
    "    ax.plot(x, gauss_function(x, *p))\n",
    "    ax.plot(x, y, 'ok')\n",
    "\n",
    "from scipy.optimize import curve_fit\n",
    "\n",
    "def gaussfit(\n",
    "    x : np.ndarray,\n",
    "    y : np.ndarray,\n",
    "    ):\n",
    "\n",
    "    def gauss_function(x, a, mean, sigma):\n",
    "        return a*np.exp(-(x - mean)**2/(2 * sigma**2))\n",
    "\n",
    "    # initial guess\n",
    "    mean = 1.0\n",
    "    sigma = np.sqrt(sum((x - mean)**2) / len(x))\n",
    "\n",
    "    p, pcov = curve_fit(gauss_function, x, y, p0 = [1, mean, sigma])\n",
    "\n",
    "    # plot fit\n",
    "    plothist(x, y, p)\n",
    "\n",
    "    # parameter error\n",
    "    perr = np.sqrt(np.diag(pcov))\n",
    "\n",
    "    return (p, perr)"
   ]
  },
  {
   "cell_type": "code",
   "execution_count": 3,
   "id": "2aa9840d",
   "metadata": {},
   "outputs": [],
   "source": [
    "fname = '/work/training_output/20220718-235106_model_config_1ca0b959a8deaac4e58482ebde63ed9e_ranger_lr0.005_batch512/predict_output/pred.root'\n",
    "events1 = NanoEventsFactory.from_root(fname, treepath='Events', schemaclass=BaseSchema).events()"
   ]
  },
  {
   "cell_type": "code",
   "execution_count": 4,
   "id": "aa5086bb",
   "metadata": {},
   "outputs": [],
   "source": [
    "fname = '/work/training_output/20220718-235106_model_config_19bd95c2008d0f985f86c9823ccbd728_ranger_lr0.005_batch512/predict_output/pred.root'\n",
    "events2 = NanoEventsFactory.from_root(fname, treepath='Events', schemaclass=BaseSchema).events()"
   ]
  },
  {
   "cell_type": "code",
   "execution_count": 5,
   "id": "9fc5abc5",
   "metadata": {},
   "outputs": [],
   "source": [
    "fname = '/work/training_output/20220629-153348_model_config_ranger_lr0.005_batch512/predict_output/pred.root'\n",
    "events3 = NanoEventsFactory.from_root(fname, treepath='Events', schemaclass=BaseSchema).events()"
   ]
  },
  {
   "cell_type": "code",
   "execution_count": 6,
   "id": "e05e2cdb",
   "metadata": {},
   "outputs": [],
   "source": [
    "fname = '/work/training_output/20220718-235106_model_config_42df7052ead0f92ec4c86b3248d09e93_ranger_lr0.005_batch512/predict_output/pred.root'\n",
    "events4 = NanoEventsFactory.from_root(fname, treepath='Events', schemaclass=BaseSchema).events()"
   ]
  },
  {
   "cell_type": "code",
   "execution_count": 10,
   "id": "39ad3b4f",
   "metadata": {},
   "outputs": [
    {
     "data": {
      "text/plain": [
       "['target_mass',\n",
       " 'output',\n",
       " 'event_no',\n",
       " 'fj_no',\n",
       " 'fj_pt',\n",
       " 'fj_mass',\n",
       " 'fj_n2b1',\n",
       " 'fj_eta',\n",
       " 'fj_phi',\n",
       " 'fj_msd',\n",
       " 'fj_npfcands',\n",
       " 'fj_genjet_sdmass',\n",
       " 'fj_gen_mass',\n",
       " 'label_QCD_all',\n",
       " 'label_H_bb',\n",
       " 'label_H_cc',\n",
       " 'label_H_qq',\n",
       " 'sample_isQCD']"
      ]
     },
     "execution_count": 10,
     "metadata": {},
     "output_type": "execute_result"
    }
   ],
   "source": [
    "events.fields"
   ]
  },
  {
   "cell_type": "code",
   "execution_count": 19,
   "id": "21759678",
   "metadata": {},
   "outputs": [
    {
     "data": {
      "image/png": "[encoded data removed]",
      "text/plain": [
       "<Figure size 432x288 with 1 Axes>"
      ]
     },
     "metadata": {
      "needs_background": "light"
     },
     "output_type": "display_data"
    }
   ],
   "source": [
    "mass = hist.Hist('Event fraction',\n",
    "                 hist.Cat('sample', 'Higgs to bb'),\n",
    "                 hist.Bin('mass', '$M_{\\\\rm reco}$/$M_{\\\\rm target}$', 200, 0, 2),\n",
    "                )\n",
    "\n",
    "mass.fill(sample='Loss 1', mass=events1.output[events1.label_H_bb==1]/events1.target_mass[events1.label_H_bb==1])\n",
    "mass.fill(sample='Loss 2', mass=events2.output[events2.label_H_bb==1]/events2.target_mass[events2.label_H_bb==1])\n",
    "mass.fill(sample='Loss 3', mass=events3.output[events.label_H_bb==1]/events3.target_mass[events.label_H_bb==1])\n",
    "mass.fill(sample='Loss 4', mass=events4.output[events4.label_H_bb==1]/events4.target_mass[events4.label_H_bb==1])\n",
    "\n",
    "# am not sure this is the correct way to do events fraction\n",
    "scales = {'Loss 1': 1/len(events1.event_no[events1.label_H_bb==1]), \n",
    "          'Loss 2': 1/len(events2.event_no[events2.label_H_bb==1]), \n",
    "          'Loss 3': 1/len(events3.event_no[events3.label_H_bb==1]), \n",
    "          'Loss 4': 1/len(events4.event_no[events4.label_H_bb==1]), \n",
    "         }\n",
    "mass.scale(scales, axis='sample')\n",
    "\n",
    "ax = hist.plot1d(mass, overlay='sample')\n",
    "# ax.legend(frameon=False)"
   ]
  },
  {
   "cell_type": "code",
   "execution_count": 7,
   "id": "16917fd0",
   "metadata": {
    "scrolled": true
   },
   "outputs": [
    {
     "name": "stderr",
     "output_type": "stream",
     "text": [
      "/opt/conda/lib/python3.8/site-packages/hist/basehist.py:110: UserWarning: sample is a protected keyword and cannot be used as axis name\n",
      "  warnings.warn(disallowed_warning)\n"
     ]
    },
    {
     "name": "stdout",
     "output_type": "stream",
     "text": [
      "0.825 1.385\n",
      "1.005 1.395\n",
      "1.015 1.215\n",
      "0.995 1.215\n",
      "0.815 1.295\n",
      "0.945 1.305\n",
      "0.885 1.145\n",
      "0.915 1.165\n",
      "0.825 1.255\n",
      "0.895 1.255\n",
      "0.855 1.165\n",
      "0.845 1.135\n",
      "0.865 1.255\n",
      "0.875 1.225\n",
      "0.845 1.175\n",
      "0.845 1.155\n",
      "0.835 1.175\n",
      "0.845 1.185\n",
      "0.865 1.175\n",
      "0.875 1.165\n",
      "0.785 1.105\n",
      "0.835 1.155\n",
      "0.865 1.155\n",
      "0.855 1.135\n",
      "0.795 1.095\n",
      "0.835 1.135\n",
      "0.885 1.155\n",
      "0.875 1.135\n",
      "0.765 1.045\n",
      "0.815 1.095\n",
      "0.895 1.145\n",
      "0.855 1.105\n",
      "0.755 1.015\n",
      "0.795 1.065\n",
      "0.875 1.115\n",
      "0.865 1.095\n",
      "0.765 1.005\n",
      "0.785 1.035\n",
      "0.845 1.075\n",
      "0.855 1.075\n",
      "0.725 0.945\n",
      "0.785 1.015\n",
      "0.845 1.055\n",
      "0.835 1.045\n",
      "0.685 0.905\n",
      "0.765 0.985\n",
      "0.815 1.025\n",
      "0.825 1.025\n",
      "0.665 0.875\n",
      "0.735 0.955\n",
      "0.805 1.005\n",
      "0.795 1.005\n"
     ]
    }
   ],
   "source": [
    "# function for computing mass resolution\n",
    "def getEffSigma(theHist, wmin=0.2, wmax=180, epsilon=0.01):\n",
    "\n",
    "    point = wmin\n",
    "    weight = 0.0\n",
    "    points = []\n",
    "    # number of all jets\n",
    "    thesum = theHist.sum(\"sample\", \"mass\").values()[()]\n",
    "\n",
    "    # number of jets in each bin\n",
    "    values = theHist.sum(\"sample\").values()[()]\n",
    "\n",
    "    # bin centers\n",
    "    centers = theHist.to_hist().axes['mass'].centers\n",
    "\n",
    "    # fill list of bin centers and the integral up to those points\n",
    "    for i, value in enumerate(values):\n",
    "        weight += value\n",
    "        points.append([centers[i], weight / thesum])\n",
    "\n",
    "    low = wmin\n",
    "    high = wmax\n",
    "\n",
    "    # loop over all possible bin combninations and find the one\n",
    "    # with smallest width and ~68% of all jets\n",
    "    width = wmax - wmin\n",
    "    for i in range(len(points)):\n",
    "        for j in range(i, len(points)):\n",
    "            wy = points[j][1] - points[i][1]\n",
    "#             print(wy)\n",
    "            if abs(wy - 0.683) < epsilon:\n",
    "#                 print(\"here\")\n",
    "                wx = points[j][0] - points[i][0]\n",
    "#                 print(wx)\n",
    "                if wx < width:\n",
    "                    low = points[i][0]\n",
    "                    high = points[j][0]\n",
    "                    # print(points[j][0], points[i][0], wy, wx)\n",
    "                    width = wx\n",
    "    print(low, high)\n",
    "    return 0.5 * (high - low)\n",
    "\n",
    "targetmasses = np.array([60, 70, 80, 90, 100, 110, 120, 130, 140, 150, 160, 170, 180])\n",
    "loss1 = np.zeros(len(targetmasses))\n",
    "loss2 = np.zeros(len(targetmasses))\n",
    "loss3 = np.zeros(len(targetmasses))\n",
    "loss4 = np.zeros(len(targetmasses))\n",
    "\n",
    "for i in range(len(targetmasses)):\n",
    "    targetmass = targetmasses[i]\n",
    "    \n",
    "    # loss 1\n",
    "    hist1 = hist.Hist(\"Events\",\n",
    "                         hist.Cat(\"sample\", \"sample name\"),\n",
    "                         hist.Bin(\"mass\", \"Mass\", 200, 0, 2)\n",
    "                        )\n",
    "\n",
    "    hist1.fill(sample='H->bb (regression)', \n",
    "                  mass=events1.output[(events1.fj_gen_mass==targetmass) & (events1.label_H_bb==1)]/events1.target_mass[(events1.fj_gen_mass==targetmass) & (events1.label_H_bb==1)])\n",
    "\n",
    "    loss1[i] = getEffSigma(hist1)\n",
    "    \n",
    "    # loss 2\n",
    "    hist2 = hist.Hist(\"Events\",\n",
    "                         hist.Cat(\"sample\", \"sample name\"),\n",
    "                         hist.Bin(\"mass\", \"Mass\", 200, 0, 2)\n",
    "                        )\n",
    "\n",
    "    hist2.fill(sample='H->bb (regression)', \n",
    "                  mass=events2.output[(events2.fj_gen_mass==targetmass) & (events2.label_H_bb==1)]/events2.target_mass[(events2.fj_gen_mass==targetmass) & (events2.label_H_bb==1)])\n",
    "\n",
    "    loss2[i] = getEffSigma(hist2)\n",
    "    \n",
    "    # loss 3\n",
    "    hist3 = hist.Hist(\"Events\",\n",
    "                         hist.Cat(\"sample\", \"sample name\"),\n",
    "                         hist.Bin(\"mass\", \"Mass\", 200, 0, 2)\n",
    "                        )\n",
    "\n",
    "    hist3.fill(sample='H->bb (regression)', \n",
    "                  mass=events3.output[(events3.fj_gen_mass==targetmass) & (events3.label_H_bb==1)]/events3.target_mass[(events3.fj_gen_mass==targetmass) & (events3.label_H_bb==1)])\n",
    "\n",
    "    loss3[i] = getEffSigma(hist3)\n",
    "    \n",
    "    # loss 4\n",
    "    hist4 = hist.Hist(\"Events\",\n",
    "                         hist.Cat(\"sample\", \"sample name\"),\n",
    "                         hist.Bin(\"mass\", \"Mass\", 200, 0, 2)\n",
    "                        )\n",
    "\n",
    "    hist4.fill(sample='H->bb (regression)', \n",
    "                  mass=events4.output[(events4.fj_gen_mass==targetmass) & (events4.label_H_bb==1)]/events4.target_mass[(events4.fj_gen_mass==targetmass) & (events4.label_H_bb==1)])\n",
    "\n",
    "    loss4[i] = getEffSigma(hist4)"
   ]
  },
  {
   "cell_type": "code",
   "execution_count": 9,
   "id": "aeba6b99",
   "metadata": {},
   "outputs": [
    {
     "data": {
      "image/png": "[encoded data removed]",
      "text/plain": [
       "<Figure size 432x288 with 1 Axes>"
      ]
     },
     "metadata": {
      "needs_background": "light"
     },
     "output_type": "display_data"
    }
   ],
   "source": [
    "plt.plot(targetmasses, loss1, label='Loss 1', c='C0')\n",
    "plt.plot(targetmasses, loss2, label='Loss 2', c='C1')\n",
    "plt.plot(targetmasses, loss3, label='Loss 3', c='C2')\n",
    "plt.plot(targetmasses, loss4, label='Loss 4', c='C3')\n",
    "\n",
    "plt.legend(fontsize=11, frameon=False)\n",
    "plt.xlabel('$M_{\\\\rm target}$ [GeV/${\\\\rm c}^2$]', fontsize=13)\n",
    "plt.ylabel('$\\sigma_{\\\\rm eff}$(m) / m', fontsize=13)\n",
    "plt.ylim([0.05, 0.25])\n",
    "plt.show()"
   ]
  },
  {
   "cell_type": "code",
   "execution_count": null,
   "id": "0c811b85",
   "metadata": {},
   "outputs": [],
   "source": []
  }
 ],
 "metadata": {
  "kernelspec": {
   "display_name": "Python 3 (ipykernel)",
   "language": "python",
   "name": "python3"
  },
  "language_info": {
   "codemirror_mode": {
    "name": "ipython",
    "version": 3
   },
   "file_extension": ".py",
   "mimetype": "text/x-python",
   "name": "python",
   "nbconvert_exporter": "python",
   "pygments_lexer": "ipython3",
   "version": "3.8.13"
  }
 },
 "nbformat": 4,
 "nbformat_minor": 5
}
