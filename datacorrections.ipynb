{
 "cells": [
  {
   "cell_type": "code",
   "execution_count": 1,
   "id": "3dd0fd18",
   "metadata": {},
   "outputs": [
    {
     "name": "stderr",
     "output_type": "stream",
     "text": [
      "/opt/conda/lib/python3.8/site-packages/coffea/util.py:154: FutureWarning: In coffea version v0.8.0 (target date: 31 Dec 2022), this will be an error.\n",
      "(Set coffea.deprecations_as_errors = True to get a stack trace now.)\n",
      "ImportError: coffea.hist is deprecated\n",
      "  warnings.warn(message, FutureWarning)\n"
     ]
    }
   ],
   "source": [
    "import awkward as ak\n",
    "from coffea.nanoevents import NanoEventsFactory, NanoAODSchema, BaseSchema\n",
    "import coffea.hist as hist\n",
    "import numpy as np\n",
    "import warnings\n",
    "import matplotlib.pyplot as plt\n",
    "warnings.filterwarnings('ignore', category=RuntimeWarning)"
   ]
  },
  {
   "cell_type": "code",
   "execution_count": 50,
   "id": "4cb5b153",
   "metadata": {},
   "outputs": [],
   "source": [
    "fname_list = ['tt_Wb_qqb_numEvent100.root'] # change this if using other files\n",
    "events_list = []\n",
    "\n",
    "for fname in fname_list:\n",
    "    events = NanoEventsFactory.from_root(fname, \n",
    "                                         treepath='mmtree/tree', \n",
    "                                         schemaclass=BaseSchema).events()\n",
    "    events_list.append(events)\n",
    "    \n",
    "for field in events_list[0].fields:\n",
    "    field_list = []\n",
    "    for i in range(len(events_list)):\n",
    "        field_list.append(events_list[i][field])\n",
    "    locals()[field] = ak.concatenate(field_list, axis=0)\n",
    "    \n",
    "num_events = 0\n",
    "for i in range(len(events_list)):\n",
    "    num_events += len(events_list[i])"
   ]
  },
  {
   "cell_type": "code",
   "execution_count": 51,
   "id": "24eb766f",
   "metadata": {},
   "outputs": [
    {
     "name": "stdout",
     "output_type": "stream",
     "text": [
      "['fatjet_1_dr_T', 'fatjet_1_dr_T_Wq_max', 'fatjet_1_T_Wq_max_pdgId', 'fatjet_1_dr_W_daus', 'fatjet_1_dr_T_b', 'muon_pt', 'muon_eta', 'muon_trk_dxy', 'muon_trk_dz', 'muon_m', 'muon_charge', 'muon_type', 'muon_phi', 'fatjet_area', 'fatjet_eta', 'fatjet_n2b1', 'fatjet_n3b1', 'fatjet_phi', 'fatjet_pt', 'fatjet_mass', 'fatjet_msoftdrop', 'fatjet_mregressed', 'fatjet_doubleBTag', 'jet_pt', 'jet_eta', 'jet_phi', 'jet_m', 'jet_jetArea', 'jet_bTagScore', 'met_pt', 'met_phi']\n"
     ]
    }
   ],
   "source": [
    "print(events.fields)"
   ]
  },
  {
   "cell_type": "code",
   "execution_count": 52,
   "id": "22758176",
   "metadata": {},
   "outputs": [
    {
     "name": "stdout",
     "output_type": "stream",
     "text": [
      "[True, False, True, False, False, False, True, False, False, True, False, False, False, False, True, False, False, False, False, True, False, True, False, True, True, False, False, False, False, True, False, False, True, False, False, False, False, False, False, False, False, False, False, False, False, False, False, False, False, False, False, False, False, False, False, False, False, False, True, False, False, False, False, False, True, True, False, False, False, False, False, True, False, True, False, False, False, False, False, True, False, False, True, False, False, False, False, False, False, True, False, False, False, True, False, False, False, False, True, True]\n",
      "22\n"
     ]
    }
   ],
   "source": [
    "# muon selection\n",
    "muonmask = ((muon_pt > 20) \n",
    "            & (abs(muon_eta) < 2.5)\n",
    "            & (abs(muon_trk_dxy) < 0.2)\n",
    "#             & (abs(muon_trk_dz) < 5)\n",
    "           )\n",
    "\n",
    "goodevents = [True] * num_events\n",
    "goodmuonevents = muon_pt[muonmask]\n",
    "# print(goodmuonevents)\n",
    "\n",
    "for i in range(num_events):\n",
    "    if len(goodmuonevents[i]) != 1:\n",
    "        goodevents[i] = False\n",
    "\n",
    "print(goodevents)\n",
    "noTrue = 0\n",
    "for i in range(len(goodevents)):\n",
    "    good = goodevents[i]\n",
    "    if good:\n",
    "        noTrue += 1\n",
    "print(noTrue)"
   ]
  },
  {
   "cell_type": "code",
   "execution_count": 53,
   "id": "dc2f7fa2",
   "metadata": {},
   "outputs": [
    {
     "data": {
      "text/plain": [
       "<AxesSubplot:xlabel='pT', ylabel='Events'>"
      ]
     },
     "execution_count": 53,
     "metadata": {},
     "output_type": "execute_result"
    },
    {
     "data": {
      "image/png": "[encoded data removed]",
      "text/plain": [
       "<Figure size 432x288 with 1 Axes>"
      ]
     },
     "metadata": {
      "needs_background": "light"
     },
     "output_type": "display_data"
    }
   ],
   "source": [
    "muon = hist.Hist('Events',\n",
    "                 hist.Cat('sample', 'pt'),\n",
    "                 hist.Bin('pt', 'pT', 100, 0, 300),\n",
    "                )\n",
    "\n",
    "muon.fill(sample='Muon pt', pt=ak.flatten(muon_pt))\n",
    "muon.fill(sample='Muon pt masked', pt=ak.flatten(muon_pt[muonmask]))\n",
    "\n",
    "hist.plot1d(muon, overlay='sample')"
   ]
  },
  {
   "cell_type": "code",
   "execution_count": 54,
   "id": "fd6ad4a2",
   "metadata": {},
   "outputs": [
    {
     "name": "stdout",
     "output_type": "stream",
     "text": [
      "[True, False, False, False, False, False, False, False, False, False, False, False, False, False, True, False, False, False, False, True, False, True, False, True, True, False, False, False, False, True, False, False, True, False, False, False, False, False, False, False, False, False, False, False, False, False, False, False, False, False, False, False, False, False, False, False, False, False, False, False, False, False, False, False, True, True, False, False, False, False, False, False, False, False, False, False, False, False, False, True, False, False, False, False, False, False, False, False, False, True, False, False, False, True, False, False, False, False, True, True]\n",
      "15\n"
     ]
    }
   ],
   "source": [
    "# met selection\n",
    "for i in range(num_events):\n",
    "    if met_pt[i] < 50:\n",
    "        goodevents[i] = False\n",
    "        \n",
    "print(goodevents)\n",
    "noTrue = 0\n",
    "for i in range(len(goodevents)):\n",
    "    good = goodevents[i]\n",
    "    if good:\n",
    "        noTrue += 1\n",
    "print(noTrue)"
   ]
  },
  {
   "cell_type": "code",
   "execution_count": 55,
   "id": "e6140b09",
   "metadata": {},
   "outputs": [
    {
     "data": {
      "text/plain": [
       "<AxesSubplot:xlabel='pT', ylabel='Events'>"
      ]
     },
     "execution_count": 55,
     "metadata": {},
     "output_type": "execute_result"
    },
    {
     "data": {
      "image/png": "[encoded data removed]",
      "text/plain": [
       "<Figure size 432x288 with 1 Axes>"
      ]
     },
     "metadata": {
      "needs_background": "light"
     },
     "output_type": "display_data"
    }
   ],
   "source": [
    "met = hist.Hist('Events',\n",
    "                 hist.Cat('sample', 'pt'),\n",
    "                 hist.Bin('pt', 'pT', 100, 0, 300),\n",
    "                )\n",
    "\n",
    "met.fill(sample='met pt', pt=met_pt)\n",
    "\n",
    "hist.plot1d(met, overlay='sample')"
   ]
  },
  {
   "cell_type": "code",
   "execution_count": 56,
   "id": "7a49ede1",
   "metadata": {},
   "outputs": [
    {
     "name": "stdout",
     "output_type": "stream",
     "text": [
      "[False, False, False, False, False, False, False, False, False, False, False, False, False, False, True, False, False, False, False, True, False, True, False, True, True, False, False, False, False, False, False, False, True, False, False, False, False, False, False, False, False, False, False, False, False, False, False, False, False, False, False, False, False, False, False, False, False, False, False, False, False, False, False, False, True, False, False, False, False, False, False, False, False, False, False, False, False, False, False, True, False, False, False, False, False, False, False, False, False, False, False, False, False, False, False, False, False, False, False, False]\n",
      "8\n"
     ]
    }
   ],
   "source": [
    "from coffea.nanoevents.methods.vector import PtEtaPhiMLorentzVector\n",
    "from coffea.nanoevents.methods import nanoaod\n",
    "\n",
    "# leptonic W pt cut\n",
    "ak.behavior.update(nanoaod.behavior)\n",
    "\n",
    "mu = ak.zip({\"pt\": muon_pt,\n",
    "                  \"eta\": muon_eta,\n",
    "                  \"phi\": muon_phi,\n",
    "                  \"mass\": muon_m},\n",
    "                 with_name=\"PtEtaPhiMLorentzVector\",)\n",
    "met = ak.zip({\"pt\": met_pt,\n",
    "                    \"eta\": None,\n",
    "                    \"phi\": met_phi,\n",
    "                    \"mass\": None},\n",
    "                   with_name=\"PtEtaPhiMLorentzVector\",)\n",
    "\n",
    "leptonicW = met + mu\n",
    "# print(leptonicW.pt[muonmask])\n",
    "\n",
    "for i in range(num_events):\n",
    "    if goodevents[i]:\n",
    "#         print(leptonicW.pt[muonmask][i])\n",
    "        if leptonicW.pt[muonmask][i] < 100.:\n",
    "            goodevents[i] = False\n",
    "        \n",
    "print(goodevents)\n",
    "noTrue = 0\n",
    "for i in range(len(goodevents)):\n",
    "    good = goodevents[i]\n",
    "    if good:\n",
    "        noTrue += 1\n",
    "print(noTrue)"
   ]
  },
  {
   "cell_type": "code",
   "execution_count": 57,
   "id": "d7a0dfd6",
   "metadata": {},
   "outputs": [
    {
     "data": {
      "text/plain": [
       "<AxesSubplot:xlabel='pT', ylabel='Events'>"
      ]
     },
     "execution_count": 57,
     "metadata": {},
     "output_type": "execute_result"
    },
    {
     "data": {
      "image/png": "[encoded data removed]",
      "text/plain": [
       "<Figure size 432x288 with 1 Axes>"
      ]
     },
     "metadata": {
      "needs_background": "light"
     },
     "output_type": "display_data"
    }
   ],
   "source": [
    "leptonic = hist.Hist('Events',\n",
    "                 hist.Cat('sample', 'pt'),\n",
    "                 hist.Bin('pt', 'pT', 100, 0, 300),\n",
    "                )\n",
    "\n",
    "leptonic.fill(sample='leptonic pt', pt=ak.flatten(leptonicW.pt))\n",
    "leptonic.fill(sample='leptonic pt masked', pt=ak.flatten(leptonicW.pt[goodevents]))\n",
    "\n",
    "hist.plot1d(leptonic, overlay='sample')"
   ]
  },
  {
   "cell_type": "code",
   "execution_count": 59,
   "id": "5f6f05d8",
   "metadata": {},
   "outputs": [
    {
     "name": "stdout",
     "output_type": "stream",
     "text": [
      "[False, False, False, False, False, False, False, False, False, False, False, False, False, False, True, False, False, False, False, True, False, True, False, True, True, False, False, False, False, False, False, False, True, False, False, False, False, False, False, False, False, False, False, False, False, False, False, False, False, False, False, False, False, False, False, False, False, False, False, False, False, False, False, False, True, False, False, False, False, False, False, False, False, False, False, False, False, False, False, True, False, False, False, False, False, False, False, False, False, False, False, False, False, False, False, False, False, False, False, False]\n",
      "8\n"
     ]
    }
   ],
   "source": [
    "for i in range(num_events):\n",
    "    if goodevents[i]:\n",
    "        btag = False\n",
    "        for j in range(len(jet_bTagScore[i])): # this many jets\n",
    "            btagscore = jet_bTagScore[i][j]\n",
    "            if btagscore < 100 and (abs(jet_phi[i][j] - muon_phi[i][0]) < 2.):\n",
    "                btag = True\n",
    "        if not btag:\n",
    "            goodevents[i] = False\n",
    "            \n",
    "print(goodevents)\n",
    "noTrue = 0\n",
    "for i in range(len(goodevents)):\n",
    "    good = goodevents[i]\n",
    "    if good:\n",
    "        noTrue += 1\n",
    "print(noTrue)"
   ]
  },
  {
   "cell_type": "code",
   "execution_count": 60,
   "id": "639b9b74",
   "metadata": {},
   "outputs": [
    {
     "name": "stdout",
     "output_type": "stream",
     "text": [
      "[False, False, False, False, False, False, False, False, False, False, False, False, False, False, True, False, False, False, False, True, False, True, False, True, True, False, False, False, False, False, False, False, True, False, False, False, False, False, False, False, False, False, False, False, False, False, False, False, False, False, False, False, False, False, False, False, False, False, False, False, False, False, False, False, True, False, False, False, False, False, False, False, False, False, False, False, False, False, False, True, False, False, False, False, False, False, False, False, False, False, False, False, False, False, False, False, False, False, False, False]\n",
      "8\n",
      "{14: 1, 19: 2, 21: 1, 23: 0, 24: 4, 32: 2, 64: 0, 79: 1}\n",
      "[14, 19, 21, 23, 24, 32, 64, 79]\n",
      "[1, 2, 1, 0, 4, 2, 0, 1]\n"
     ]
    }
   ],
   "source": [
    "# require fatjet away from the muon\n",
    "probejets = {}\n",
    "for i in range(num_events):\n",
    "    if goodevents[i]:\n",
    "        fatjetaway = False\n",
    "        indices = []\n",
    "        for j in range(len(fatjet_phi[i])): # this many fatjets\n",
    "            if abs(fatjet_phi[i][j] - muon_phi[i][0]) > 2.:\n",
    "                fatjetaway = True\n",
    "                indices.append(j)\n",
    "        probejets[i] = indices\n",
    "        if not fatjetaway:\n",
    "            goodevents[i] = False\n",
    "            \n",
    "print(goodevents)\n",
    "noTrue = 0\n",
    "for i in range(len(goodevents)):\n",
    "    good = goodevents[i]\n",
    "    if good:\n",
    "        noTrue += 1\n",
    "print(noTrue)\n",
    "\n",
    "# keep only first fatjet\n",
    "for i in probejets.keys():\n",
    "    probejets[i] = probejets[i][0]\n",
    "print(probejets) # key is the event index, value is the jet index of that event\n",
    "\n",
    "eventprobes = list(probejets.keys())\n",
    "jetprobes = list(probejets.values())\n",
    "print(eventprobes)\n",
    "print(jetprobes)"
   ]
  },
  {
   "cell_type": "code",
   "execution_count": 61,
   "id": "0f153fbd",
   "metadata": {},
   "outputs": [
    {
     "name": "stdout",
     "output_type": "stream",
     "text": [
      "{'fatjet_mass': array([0., 0., 0., 0., 0., 0., 0., 0.]), 'fatjet_pt': array([0., 0., 0., 0., 0., 0., 0., 0.])}\n",
      "{'fatjet_mass': array([0., 0., 0., 0., 0., 0., 0., 0.]), 'fatjet_pt': array([0., 0., 0., 0., 0., 0., 0., 0.])}\n",
      "{'fatjet_mass': array([ 16.58956528,  21.43977165,  67.06286621,  20.07754326,\n",
      "        12.5704689 ,  23.43052483, 144.62786865,  37.32302475]), 'fatjet_pt': array([ 79.31388092,  78.855896  , 138.76737976, 134.56671143,\n",
      "        40.26630783,  95.34659576, 473.88461304, 121.84066772])}\n"
     ]
    },
    {
     "data": {
      "text/plain": [
       "<AxesSubplot:xlabel='Mass', ylabel='Events'>"
      ]
     },
     "execution_count": 61,
     "metadata": {},
     "output_type": "execute_result"
    },
    {
     "data": {
      "image/png": "[encoded data removed]",
      "text/plain": [
       "<Figure size 432x288 with 1 Axes>"
      ]
     },
     "metadata": {
      "needs_background": "light"
     },
     "output_type": "display_data"
    }
   ],
   "source": [
    "### change these 3 things if you want to plot different variables ###\n",
    "var_list = [fatjet_mass, fatjet_pt]\n",
    "\n",
    "var_names = ['fatjet_mass', 'fatjet_pt']\n",
    "\n",
    "mass = hist.Hist('Events',\n",
    "                 hist.Cat('sample', 'Categories'),\n",
    "                 hist.Bin('mass', 'Mass', 50, 0, 300),\n",
    "                 hist.Bin('pt', 'pT', 50, 0, 2000)\n",
    "                )\n",
    "\n",
    "###\n",
    "\n",
    "topmatched = {}\n",
    "Wmatched = {}\n",
    "unmatched = {}\n",
    "\n",
    "for name in var_names:\n",
    "    topmatched[name] = np.zeros(len(eventprobes))\n",
    "    Wmatched[name] = np.zeros(len(eventprobes))\n",
    "    unmatched[name] = np.zeros(len(eventprobes))\n",
    "\n",
    "for i in range(len(eventprobes)):\n",
    "    eventprobe = eventprobes[i]\n",
    "    jetprobe = jetprobes[i]\n",
    "    \n",
    "    fj_1_dr_T_b = fatjet_1_dr_T_b[eventprobe][jetprobe]\n",
    "    fj_1_dr_T_Wq_max = fatjet_1_dr_T_Wq_max[eventprobe][jetprobe]\n",
    "    fj_1_T_Wq_max_pdgId = fatjet_1_T_Wq_max_pdgId[eventprobe][jetprobe]\n",
    "    fj_1_dr_W_daus = fatjet_1_dr_W_daus[eventprobe][jetprobe]\n",
    "    jetR = 1.6 # check\n",
    "    \n",
    "    top = (fj_1_dr_T_b<jetR) & (fj_1_dr_T_Wq_max<jetR)\n",
    "    W = ((fj_1_T_Wq_max_pdgId==0) & (fj_1_dr_W_daus<jetR)) or ((fj_1_T_Wq_max_pdgId!=0) & (fj_1_dr_T_b>=jetR) & (fj_1_dr_T_Wq_max<jetR))\n",
    "    if top:\n",
    "        for j in range(len(var_list)):\n",
    "            var_name = var_names[j]\n",
    "            var = var_list[j]\n",
    "            var_value = var[eventprobe][jetprobe]\n",
    "            topmatched[var_name][i] = var_value\n",
    "    elif W:\n",
    "        for j in range(len(var_list)):\n",
    "            var_name = var_names[j]\n",
    "            var = var_list[j]\n",
    "            var_value = var[eventprobe][jetprobe]\n",
    "            Wmatched[var_name][i] = var_value\n",
    "    else:\n",
    "        for j in range(len(var_list)):\n",
    "            var_name = var_names[j]\n",
    "            var = var_list[j]\n",
    "            var_value = var[eventprobe][jetprobe]\n",
    "            unmatched[var_name][i] = var_value\n",
    "\n",
    "print(topmatched)\n",
    "print(Wmatched)\n",
    "print(unmatched)\n",
    "\n",
    "### also change these! ###\n",
    "mass.fill(sample='Top matched', mass=topmatched['fatjet_mass'], pt=topmatched['fatjet_pt'])\n",
    "mass.fill(sample='W matched', mass=Wmatched['fatjet_mass'], pt=Wmatched['fatjet_pt'])\n",
    "mass.fill(sample='Unmatched', mass=unmatched['fatjet_mass'], pt=unmatched['fatjet_pt'])\n",
    "\n",
    "hist.plot1d(mass.sum('pt'), overlay='sample')\n",
    "###"
   ]
  },
  {
   "cell_type": "code",
   "execution_count": null,
   "id": "5153293f",
   "metadata": {},
   "outputs": [],
   "source": []
  }
 ],
 "metadata": {
  "kernelspec": {
   "display_name": "Python 3 (ipykernel)",
   "language": "python",
   "name": "python3"
  },
  "language_info": {
   "codemirror_mode": {
    "name": "ipython",
    "version": 3
   },
   "file_extension": ".py",
   "mimetype": "text/x-python",
   "name": "python",
   "nbconvert_exporter": "python",
   "pygments_lexer": "ipython3",
   "version": "3.8.13"
  }
 },
 "nbformat": 4,
 "nbformat_minor": 5
}
